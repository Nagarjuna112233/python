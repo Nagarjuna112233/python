{
 "cells": [
  {
   "cell_type": "markdown",
   "id": "ec07957d-a24b-44da-9f28-b4b86fe2496b",
   "metadata": {},
   "source": [
    "**1.integer (int):**\n",
    "\n",
    "- numerical value with no decimal \n",
    "- can be neither negitive or positive or Zero"
   ]
  },
  {
   "cell_type": "code",
   "execution_count": 1,
   "id": "00b984d0-394c-43da-b907-6b567d73c14d",
   "metadata": {},
   "outputs": [
    {
     "name": "stdout",
     "output_type": "stream",
     "text": [
      "10\n"
     ]
    }
   ],
   "source": [
    "a = 10\n",
    "print(a)"
   ]
  },
  {
   "cell_type": "code",
   "execution_count": 2,
   "id": "cd40bc12-18d7-4d16-b794-aaea899e7b9a",
   "metadata": {},
   "outputs": [
    {
     "data": {
      "text/plain": [
       "int"
      ]
     },
     "execution_count": 2,
     "metadata": {},
     "output_type": "execute_result"
    }
   ],
   "source": [
    "type(a)"
   ]
  },
  {
   "cell_type": "markdown",
   "id": "7f17ef62-4fa0-49b2-8bb7-e61f0453bfb5",
   "metadata": {},
   "source": [
    "**2.Float**\n",
    "\n",
    "-  a numarical value with decimal"
   ]
  },
  {
   "cell_type": "code",
   "execution_count": 3,
   "id": "0251b122-969e-44ee-a665-f46d32cee483",
   "metadata": {},
   "outputs": [
    {
     "name": "stdout",
     "output_type": "stream",
     "text": [
      "3.5\n"
     ]
    }
   ],
   "source": [
    "b = 3.5\n",
    "print(b)"
   ]
  },
  {
   "cell_type": "code",
   "execution_count": 4,
   "id": "9005a7b3-167c-4243-89ef-71e7aa16bbf3",
   "metadata": {},
   "outputs": [
    {
     "data": {
      "text/plain": [
       "float"
      ]
     },
     "execution_count": 4,
     "metadata": {},
     "output_type": "execute_result"
    }
   ],
   "source": [
    "type(b)"
   ]
  },
  {
   "cell_type": "markdown",
   "id": "20bb8ebe-a42c-4b4d-bb12-815d6be640f3",
   "metadata": {},
   "source": [
    "**3.Boolean(bool)**\n",
    "\n",
    "- True/False"
   ]
  },
  {
   "cell_type": "code",
   "execution_count": 5,
   "id": "f225bc54-8d46-411e-8cd5-0b8ac3f79c12",
   "metadata": {},
   "outputs": [
    {
     "name": "stdout",
     "output_type": "stream",
     "text": [
      "True\n"
     ]
    }
   ],
   "source": [
    "b1 = True\n",
    "print(b1)"
   ]
  },
  {
   "cell_type": "code",
   "execution_count": 6,
   "id": "4bbe83bb-18ff-42af-8e85-1a8a5e459b78",
   "metadata": {},
   "outputs": [
    {
     "data": {
      "text/plain": [
       "bool"
      ]
     },
     "execution_count": 6,
     "metadata": {},
     "output_type": "execute_result"
    }
   ],
   "source": [
    "type(b1)"
   ]
  },
  {
   "cell_type": "markdown",
   "id": "20990d74-a129-4c5a-b136-69c3fb6859e5",
   "metadata": {},
   "source": [
    "**5.String(str)**\n",
    "\n",
    "- a combination or sequence of characters (alphabets,number,special characters)\n",
    "\n",
    "- We can use single quotes or double to represent strings.\n",
    "                        "
   ]
  },
  {
   "cell_type": "code",
   "execution_count": 7,
   "id": "e731e7f6-b01c-45ab-8990-8e3df2b91cd9",
   "metadata": {},
   "outputs": [
    {
     "name": "stdout",
     "output_type": "stream",
     "text": [
      "hello\n",
      "hello\n",
      "hello\n"
     ]
    }
   ],
   "source": [
    "mystring1 = 'hello'\n",
    "print(mystring1)\n",
    "\n",
    "mystring2 = \"hello\"\n",
    "print(mystring2)\n",
    "\n",
    "mystring3 = '''hello'''\n",
    "print(mystring3)"
   ]
  },
  {
   "cell_type": "markdown",
   "id": "4bcde30b-eba5-4f39-8389-50dcb3d2f8f0",
   "metadata": {},
   "source": [
    "**multi-line string can be denoed using triple quotes, '''or\"\"\"**"
   ]
  },
  {
   "cell_type": "code",
   "execution_count": 10,
   "id": "21d38e49-95e7-4da2-948e-f1b3469f4e5a",
   "metadata": {},
   "outputs": [
    {
     "name": "stdout",
     "output_type": "stream",
     "text": [
      "data\n",
      "science\n"
     ]
    }
   ],
   "source": [
    "name = '''data\n",
    "science'''\n",
    "print(name)"
   ]
  },
  {
   "cell_type": "code",
   "execution_count": 11,
   "id": "f1dfbd2d-5642-4d04-8fc3-e4a60e2cc21a",
   "metadata": {},
   "outputs": [
    {
     "data": {
      "text/plain": [
       "str"
      ]
     },
     "execution_count": 11,
     "metadata": {},
     "output_type": "execute_result"
    }
   ],
   "source": [
    "var2 = \"123\"\n",
    "type(var2)"
   ]
  },
  {
   "cell_type": "code",
   "execution_count": 13,
   "id": "9ff3ea12-8b4b-4502-807e-cdbdf8a98f0a",
   "metadata": {},
   "outputs": [
    {
     "data": {
      "text/plain": [
       "int"
      ]
     },
     "execution_count": 13,
     "metadata": {},
     "output_type": "execute_result"
    }
   ],
   "source": [
    "var1 = 123\n",
    "type(var1)"
   ]
  },
  {
   "cell_type": "markdown",
   "id": "d247c2d3-a067-4cbe-8db8-48990e48b98d",
   "metadata": {},
   "source": [
    "**Length of string**"
   ]
  },
  {
   "cell_type": "code",
   "execution_count": 14,
   "id": "64f8837a-2ee0-46b7-97d6-45b3188517d6",
   "metadata": {},
   "outputs": [
    {
     "data": {
      "text/plain": [
       "5"
      ]
     },
     "execution_count": 14,
     "metadata": {},
     "output_type": "execute_result"
    }
   ],
   "source": [
    "string = \"Hello\"\n",
    "len(string)"
   ]
  },
  {
   "cell_type": "markdown",
   "id": "7d6b3253-c680-46ac-bce8-4da1c61c7c69",
   "metadata": {},
   "source": [
    "**f string**"
   ]
  },
  {
   "cell_type": "code",
   "execution_count": 15,
   "id": "93b16ec7-2ed8-49c6-a475-91a5ef930c65",
   "metadata": {},
   "outputs": [
    {
     "name": "stdout",
     "output_type": "stream",
     "text": [
      "my name is:Arjun and my num is: 12\n"
     ]
    }
   ],
   "source": [
    "num = 12\n",
    "name = \"Arjun\"\n",
    "\n",
    "print(f\"my name is:{name} and my num is: {num}\")"
   ]
  },
  {
   "cell_type": "markdown",
   "id": "982b64b7-f7d7-45ef-8974-10bac8b91116",
   "metadata": {},
   "source": [
    "**string Concatination**\n",
    "\n",
    "- joining of two or more strings into a single one is called concatination.\n",
    "\n",
    "- the + operator does this in python. simply writing two string literals together also concatenates them.\n",
    "\n",
    "- **Note**: to use + operator for string, compulsory both shoukd be string type only."
   ]
  },
  {
   "cell_type": "code",
   "execution_count": 16,
   "id": "81f0c232-509e-48de-8d96-fb0bb88262a4",
   "metadata": {},
   "outputs": [
    {
     "data": {
      "text/plain": [
       "'hello + world'"
      ]
     },
     "execution_count": 16,
     "metadata": {},
     "output_type": "execute_result"
    }
   ],
   "source": [
    "\"hello + world\""
   ]
  },
  {
   "cell_type": "code",
   "execution_count": 17,
   "id": "d4530d7b-a426-4e17-b1a3-f77df6ca1f73",
   "metadata": {},
   "outputs": [
    {
     "data": {
      "text/plain": [
       "'Hello world'"
      ]
     },
     "execution_count": 17,
     "metadata": {},
     "output_type": "execute_result"
    }
   ],
   "source": [
    "'Hello' + \" \"+ \"world\""
   ]
  },
  {
   "cell_type": "code",
   "execution_count": 18,
   "id": "857918f6-6b25-485f-85ea-91e5e528b539",
   "metadata": {},
   "outputs": [
    {
     "ename": "TypeError",
     "evalue": "can only concatenate str (not \"int\") to str",
     "output_type": "error",
     "traceback": [
      "\u001b[1;31m---------------------------------------------------------------------------\u001b[0m",
      "\u001b[1;31mTypeError\u001b[0m                                 Traceback (most recent call last)",
      "Cell \u001b[1;32mIn[18], line 1\u001b[0m\n\u001b[1;32m----> 1\u001b[0m \u001b[38;5;124m\"\u001b[39m\u001b[38;5;124mArjun\u001b[39m\u001b[38;5;124m\"\u001b[39m\u001b[38;5;241m+\u001b[39m\u001b[38;5;241m3\u001b[39m\n",
      "\u001b[1;31mTypeError\u001b[0m: can only concatenate str (not \"int\") to str"
     ]
    }
   ],
   "source": [
    "\"Arjun\"+3"
   ]
  },
  {
   "cell_type": "code",
   "execution_count": 19,
   "id": "9f556730-dd17-40cc-b4b0-78957868a2e7",
   "metadata": {},
   "outputs": [
    {
     "data": {
      "text/plain": [
       "'Arjun23'"
      ]
     },
     "execution_count": 19,
     "metadata": {},
     "output_type": "execute_result"
    }
   ],
   "source": [
    "\"Arjun\" + \"23\""
   ]
  },
  {
   "cell_type": "code",
   "execution_count": 20,
   "id": "2c9d94e2-13bf-4cfa-a59e-a7a44d025d2f",
   "metadata": {},
   "outputs": [
    {
     "data": {
      "text/plain": [
       "'Arjun3'"
      ]
     },
     "execution_count": 20,
     "metadata": {},
     "output_type": "execute_result"
    }
   ],
   "source": [
    "\"Arjun\"+str(3)"
   ]
  },
  {
   "cell_type": "markdown",
   "id": "23bb3577-cd68-4045-a4df-83eb877105f4",
   "metadata": {},
   "source": [
    "**Type casting: converting from one data type to another data type**"
   ]
  },
  {
   "cell_type": "code",
   "execution_count": 21,
   "id": "7ee2a239-ee59-4ca5-946c-b6d6593cf684",
   "metadata": {},
   "outputs": [
    {
     "data": {
      "text/plain": [
       "-5"
      ]
     },
     "execution_count": 21,
     "metadata": {},
     "output_type": "execute_result"
    }
   ],
   "source": [
    "int(-5)"
   ]
  },
  {
   "cell_type": "code",
   "execution_count": 22,
   "id": "829759e4-bfdd-41aa-9968-592f82aa8104",
   "metadata": {},
   "outputs": [
    {
     "data": {
      "text/plain": [
       "5.6"
      ]
     },
     "execution_count": 22,
     "metadata": {},
     "output_type": "execute_result"
    }
   ],
   "source": [
    "float(5.6)"
   ]
  },
  {
   "cell_type": "code",
   "execution_count": 23,
   "id": "10c872b7-bb85-4580-ae07-f8edb19e0d58",
   "metadata": {},
   "outputs": [
    {
     "data": {
      "text/plain": [
       "True"
      ]
     },
     "execution_count": 23,
     "metadata": {},
     "output_type": "execute_result"
    }
   ],
   "source": [
    "bool(0.00001)"
   ]
  },
  {
   "cell_type": "code",
   "execution_count": 24,
   "id": "c234a9b7-ad4d-4cd6-bba0-18016c9c851a",
   "metadata": {},
   "outputs": [
    {
     "data": {
      "text/plain": [
       "'6'"
      ]
     },
     "execution_count": 24,
     "metadata": {},
     "output_type": "execute_result"
    }
   ],
   "source": [
    "str(6)"
   ]
  },
  {
   "cell_type": "code",
   "execution_count": 25,
   "id": "df03c6d9-4b84-48cd-bccc-a5fdb835a475",
   "metadata": {},
   "outputs": [
    {
     "data": {
      "text/plain": [
       "55"
      ]
     },
     "execution_count": 25,
     "metadata": {},
     "output_type": "execute_result"
    }
   ],
   "source": [
    "int(55.6)"
   ]
  },
  {
   "cell_type": "code",
   "execution_count": 26,
   "id": "ff19a40d-2c92-4252-b07e-89ee46ef33f7",
   "metadata": {},
   "outputs": [
    {
     "data": {
      "text/plain": [
       "True"
      ]
     },
     "execution_count": 26,
     "metadata": {},
     "output_type": "execute_result"
    }
   ],
   "source": [
    "bool(3.5)"
   ]
  },
  {
   "cell_type": "code",
   "execution_count": 27,
   "id": "a7188399-9ffc-48be-a01f-007f14bc232e",
   "metadata": {},
   "outputs": [
    {
     "data": {
      "text/plain": [
       "'5.45'"
      ]
     },
     "execution_count": 27,
     "metadata": {},
     "output_type": "execute_result"
    }
   ],
   "source": [
    "str(5.45)"
   ]
  },
  {
   "cell_type": "code",
   "execution_count": 29,
   "id": "9268c5b6-2570-407e-86af-30f0045837a1",
   "metadata": {},
   "outputs": [
    {
     "data": {
      "text/plain": [
       "1"
      ]
     },
     "execution_count": 29,
     "metadata": {},
     "output_type": "execute_result"
    }
   ],
   "source": [
    "int(True)"
   ]
  },
  {
   "cell_type": "code",
   "execution_count": 31,
   "id": "143aae36-87a1-45e8-aeaf-2cee60d31c3f",
   "metadata": {},
   "outputs": [
    {
     "data": {
      "text/plain": [
       "1.0"
      ]
     },
     "execution_count": 31,
     "metadata": {},
     "output_type": "execute_result"
    }
   ],
   "source": [
    "float(True)"
   ]
  },
  {
   "cell_type": "code",
   "execution_count": 32,
   "id": "1212a064-4046-4f7f-91f4-b10ca8c10d20",
   "metadata": {},
   "outputs": [
    {
     "data": {
      "text/plain": [
       "0"
      ]
     },
     "execution_count": 32,
     "metadata": {},
     "output_type": "execute_result"
    }
   ],
   "source": [
    "int(False)"
   ]
  },
  {
   "cell_type": "code",
   "execution_count": 33,
   "id": "629ba87a-64f6-4f89-8245-fcc66e238bf5",
   "metadata": {},
   "outputs": [
    {
     "data": {
      "text/plain": [
       "'False'"
      ]
     },
     "execution_count": 33,
     "metadata": {},
     "output_type": "execute_result"
    }
   ],
   "source": [
    "str(False)"
   ]
  },
  {
   "cell_type": "code",
   "execution_count": 34,
   "id": "8a9eac60-bc9d-48d3-a6f0-846cc095d3d9",
   "metadata": {},
   "outputs": [
    {
     "ename": "ValueError",
     "evalue": "invalid literal for int() with base 10: 'nag'",
     "output_type": "error",
     "traceback": [
      "\u001b[1;31m---------------------------------------------------------------------------\u001b[0m",
      "\u001b[1;31mValueError\u001b[0m                                Traceback (most recent call last)",
      "Cell \u001b[1;32mIn[34], line 1\u001b[0m\n\u001b[1;32m----> 1\u001b[0m \u001b[38;5;28mint\u001b[39m(\u001b[38;5;124m\"\u001b[39m\u001b[38;5;124mnag\u001b[39m\u001b[38;5;124m\"\u001b[39m)\n",
      "\u001b[1;31mValueError\u001b[0m: invalid literal for int() with base 10: 'nag'"
     ]
    }
   ],
   "source": [
    "int(\"nag\")"
   ]
  },
  {
   "cell_type": "code",
   "execution_count": 35,
   "id": "41324e23-c629-44d5-8885-e3ea0d30892b",
   "metadata": {},
   "outputs": [
    {
     "data": {
      "text/plain": [
       "123.0"
      ]
     },
     "execution_count": 35,
     "metadata": {},
     "output_type": "execute_result"
    }
   ],
   "source": [
    "float(int(float(\"123.45\")))"
   ]
  },
  {
   "cell_type": "code",
   "execution_count": null,
   "id": "eea223d4-8a67-4dd5-b42e-fff4586dc954",
   "metadata": {},
   "outputs": [],
   "source": []
  }
 ],
 "metadata": {
  "kernelspec": {
   "display_name": "Python 3 (ipykernel)",
   "language": "python",
   "name": "python3"
  },
  "language_info": {
   "codemirror_mode": {
    "name": "ipython",
    "version": 3
   },
   "file_extension": ".py",
   "mimetype": "text/x-python",
   "name": "python",
   "nbconvert_exporter": "python",
   "pygments_lexer": "ipython3",
   "version": "3.12.4"
  }
 },
 "nbformat": 4,
 "nbformat_minor": 5
}
